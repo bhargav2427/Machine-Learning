{
 "cells": [
  {
   "cell_type": "code",
   "execution_count": 1,
   "metadata": {},
   "outputs": [],
   "source": [
    "import numpy as np\n",
    "import pandas as pd\n",
    "import matplotlib.pyplot as plt\n",
    "from sklearn.linear_model import MultiTaskLasso, Lasso"
   ]
  },
  {
   "cell_type": "code",
   "execution_count": 3,
   "metadata": {},
   "outputs": [],
   "source": [
    "rng = np.random.RandomState(42)"
   ]
  },
  {
   "cell_type": "code",
   "execution_count": 4,
   "metadata": {},
   "outputs": [],
   "source": [
    "n_samples, n_features, n_tasks = 100, 30, 40\n",
    "n_relevant_features = 5\n",
    "coef = np.zeros((n_tasks, n_features))\n",
    "times = np.linspace(0, 2 * np.pi, n_tasks)\n",
    "for k in range(n_relevant_features):\n",
    "    coef[:, k] = np.sin((1. + rng.randn(1)) * times + 3 * rng.randn(1))\n",
    "\n",
    "X = rng.randn(n_samples, n_features)\n",
    "Y = np.dot(X, coef.T) + rng.randn(n_samples, n_tasks)\n",
    "\n",
    "coef_lasso_ = np.array([Lasso(alpha=0.5).fit(X, y).coef_ for y in Y.T])\n",
    "coef_multi_task_lasso_ = MultiTaskLasso(alpha=1.).fit(X, Y).coef_"
   ]
  },
  {
   "cell_type": "code",
   "execution_count": 6,
   "metadata": {},
   "outputs": [
    {
     "data": {
      "text/plain": [
       "array([[-0.00000000e+00, -3.36347050e-01, -8.72288291e-02, ...,\n",
       "         0.00000000e+00, -0.00000000e+00, -0.00000000e+00],\n",
       "       [-0.00000000e+00, -4.83525976e-01, -3.18086554e-04, ...,\n",
       "         0.00000000e+00, -0.00000000e+00, -0.00000000e+00],\n",
       "       [ 0.00000000e+00, -2.25525665e-01, -0.00000000e+00, ...,\n",
       "        -0.00000000e+00,  0.00000000e+00,  0.00000000e+00],\n",
       "       ...,\n",
       "       [ 1.57432719e-01,  5.14763892e-01, -0.00000000e+00, ...,\n",
       "        -0.00000000e+00,  0.00000000e+00,  0.00000000e+00],\n",
       "       [ 9.08187061e-02,  5.98206011e-01, -2.90736691e-01, ...,\n",
       "        -0.00000000e+00, -0.00000000e+00,  0.00000000e+00],\n",
       "       [ 0.00000000e+00,  2.19606702e-01, -1.88942730e-01, ...,\n",
       "        -0.00000000e+00, -0.00000000e+00, -0.00000000e+00]])"
      ]
     },
     "execution_count": 6,
     "metadata": {},
     "output_type": "execute_result"
    }
   ],
   "source": [
    "coef_lasso_"
   ]
  },
  {
   "cell_type": "code",
   "execution_count": null,
   "metadata": {},
   "outputs": [],
   "source": [
    "fig = plt.figure(figsize=(8, 5))\n",
    "plt.subplot(1, 2, 1)\n",
    "plt.spy(coef_lasso_)\n",
    "plt.xlabel('Feature')\n",
    "plt.ylabel('Time (or Task)')\n",
    "plt.text(10, 5, 'Lasso')\n",
    "plt.subplot(1, 2, 2)\n",
    "plt.spy(coef_multi_task_lasso_)\n",
    "plt.xlabel('Feature')\n",
    "plt.ylabel('Time (or Task)')\n",
    "plt.text(10, 5, 'MultiTaskLasso')\n",
    "fig.suptitle('Coefficient non-zero location')"
   ]
  },
  {
   "cell_type": "code",
   "execution_count": null,
   "metadata": {},
   "outputs": [],
   "source": [
    "feature_to_plot = 0\n",
    "plt.figure()\n",
    "lw = 2\n",
    "plt.plot(coef[:, feature_to_plot], color='seagreen', linewidth=lw,\n",
    "         label='Ground truth')\n",
    "plt.plot(coef_lasso_[:, feature_to_plot], color='cornflowerblue', linewidth=lw,\n",
    "         label='Lasso')\n",
    "plt.plot(coef_multi_task_lasso_[:, feature_to_plot], color='gold', linewidth=lw,\n",
    "         label='MultiTaskLasso')\n",
    "plt.legend(loc='upper center')\n",
    "plt.axis('tight')\n",
    "plt.ylim([-1.1, 1.1])\n",
    "plt.show()"
   ]
  }
 ],
 "metadata": {
  "kernelspec": {
   "display_name": "Python 3",
   "language": "python",
   "name": "python3"
  },
  "language_info": {
   "codemirror_mode": {
    "name": "ipython",
    "version": 3
   },
   "file_extension": ".py",
   "mimetype": "text/x-python",
   "name": "python",
   "nbconvert_exporter": "python",
   "pygments_lexer": "ipython3",
   "version": "3.7.6"
  }
 },
 "nbformat": 4,
 "nbformat_minor": 4
}
